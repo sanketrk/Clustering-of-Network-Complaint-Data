{
  "nbformat": 4,
  "nbformat_minor": 0,
  "metadata": {
    "accelerator": "GPU",
    "colab": {
      "provenance": [],
      "gpuType": "T4",
      "include_colab_link": true
    },
    "kernelspec": {
      "display_name": "Python 3",
      "name": "python3"
    },
    "language_info": {
      "codemirror_mode": {
        "name": "ipython",
        "version": 3
      },
      "file_extension": ".py",
      "mimetype": "text/x-python",
      "name": "python",
      "nbconvert_exporter": "python",
      "pygments_lexer": "ipython3",
      "version": "3.7.6"
    },
    "pycharm": {
      "stem_cell": {
        "cell_type": "raw",
        "metadata": {
          "collapsed": false
        },
        "source": []
      }
    }
  },
  "cells": [
    {
      "cell_type": "markdown",
      "metadata": {
        "id": "view-in-github",
        "colab_type": "text"
      },
      "source": [
        "<a href=\"https://colab.research.google.com/github/sanketrk/Clustering-of-Network-Complaint-Data/blob/master/3_Hands_on_Perform_different_tasks_with_state_of_the_art_(SOTA)_transformer_models.ipynb\" target=\"_parent\"><img src=\"https://colab.research.google.com/assets/colab-badge.svg\" alt=\"Open In Colab\"/></a>"
      ]
    },
    {
      "cell_type": "markdown",
      "metadata": {
        "id": "qUU7wy-brl_H",
        "pycharm": {
          "name": "#%% md\n"
        }
      },
      "source": [
        "# NLP applications with Transformers"
      ]
    },
    {
      "cell_type": "markdown",
      "source": [
        "## Leveraging Transformers Pipelines"
      ],
      "metadata": {
        "id": "9Arcq-xju9zQ"
      }
    },
    {
      "cell_type": "markdown",
      "metadata": {
        "id": "-HLOHXuArl_L",
        "pycharm": {
          "name": "#%% md\n"
        }
      },
      "source": [
        "__Here you will leverage various transformer pipelines to solve real-world problems__\n",
        "\n",
        "Pipelines encapsulate the overall process of every NLP process:\n",
        "\n",
        " 1. *Tokenization*: Split the initial input into multiple sub-entities with ... properties (i.e. tokens).\n",
        " 2. *Inference*: Maps every tokens into a more meaningful representation.\n",
        " 3. *Decoding*: Use the above representation to generate and/or extract the final output for the underlying task.\n",
        "\n",
        "The overall API is exposed to the end-user through the `pipeline()` method with the following\n",
        "structure:\n",
        "\n",
        "```python\n",
        "from transformers import pipeline\n",
        "\n",
        "# Using default model and tokenizer for the task\n",
        "pipeline(\"<task-name>\")\n",
        "\n",
        "# Using a user-specified model\n",
        "pipeline(\"<task-name>\", model=\"<model_name>\")\n",
        "\n",
        "# Using custom model/tokenizer as str\n",
        "pipeline('<task-name>', model='<model name>', tokenizer='<tokenizer_name>')\n",
        "```\n",
        "\n",
        "\n",
        "These models are already fine-tuned models for specific tasks available in huggingface hub\n",
        "\n",
        "___[Created By: Dipanjan (DJ)](https://www.linkedin.com/in/dipanjans/)___"
      ]
    },
    {
      "cell_type": "code",
      "source": [
        "import locale\n",
        "locale.getpreferredencoding = lambda: \"UTF-8\""
      ],
      "metadata": {
        "id": "UDgrhGYi2q1O"
      },
      "execution_count": null,
      "outputs": []
    },
    {
      "cell_type": "markdown",
      "metadata": {
        "id": "Tqx-lbzXWRS1"
      },
      "source": [
        "### Install dependencies"
      ]
    },
    {
      "cell_type": "code",
      "metadata": {
        "id": "4maAknWNrl_N",
        "pycharm": {
          "name": "#%% code\n"
        }
      },
      "source": [
        "!pip install -q transformers"
      ],
      "execution_count": null,
      "outputs": []
    },
    {
      "cell_type": "code",
      "metadata": {
        "id": "AQ5t_gLNXO0r"
      },
      "source": [
        "from transformers import pipeline\n",
        "import pandas as pd"
      ],
      "execution_count": null,
      "outputs": []
    },
    {
      "cell_type": "code",
      "source": [
        "pd.set_option('display.max_colwidth', None)"
      ],
      "metadata": {
        "id": "IoW3g_-F-c4R"
      },
      "execution_count": null,
      "outputs": []
    },
    {
      "cell_type": "markdown",
      "source": [
        "# 1. Customer Feedback Analytics\n",
        "\n",
        "Scenario: You are working for a retail company which stocks various products. You will try to use tranformer LLMs here to extract sentiment and emotion from customer reviews"
      ],
      "metadata": {
        "id": "9iV_qpHD_UBG"
      }
    },
    {
      "cell_type": "markdown",
      "source": [
        "## Example Demo:"
      ],
      "metadata": {
        "id": "bGwD_kyc_iEm"
      }
    },
    {
      "cell_type": "code",
      "source": [
        "sample_reviews = [\n",
        "    \"The PureTaste kitchen blender is far from efficient. It struggles with even soft fruits and often overheats. I had to return it within a week.\",\n",
        "    \"The EverGreen plant fertilizer is magic in a bottle! Within weeks of using it, my plants have shown significant growth and look healthier than ever. A thumbs up from an avid gardener.\",\n",
        "    \"Purchased the NovaTech laptop last month, and it's been a smooth experience. The processing speed is fast, and the graphics are stunning. Best decision for my work and gaming needs.\",\n",
        "    \"The StarGlow nightlight looked promising, but it's far dimmer than advertised. Doesn't serve the purpose at all. Quite disappointed.\"\n",
        "]\n",
        "\n",
        "sample_review_df = pd.DataFrame(sample_reviews, columns=['review'])\n",
        "sample_review_df"
      ],
      "metadata": {
        "id": "FR5wjaEC7W24"
      },
      "execution_count": null,
      "outputs": []
    },
    {
      "cell_type": "markdown",
      "source": [
        "### Load a sentiment analysis transformer model"
      ],
      "metadata": {
        "id": "7zLMrEb-_l3L"
      }
    },
    {
      "cell_type": "code",
      "source": [
        "sentiment_model = pipeline('sentiment-analysis', device=0)"
      ],
      "metadata": {
        "id": "Tzq_Q6LK73wU"
      },
      "execution_count": null,
      "outputs": []
    },
    {
      "cell_type": "markdown",
      "source": [
        "### Perform sentiment analysis for given reviews"
      ],
      "metadata": {
        "id": "I1Og5NIG_puy"
      }
    },
    {
      "cell_type": "code",
      "source": [
        "reviews = sample_review_df['review'].values\n",
        "reviews"
      ],
      "metadata": {
        "id": "4taVgX9r79tF"
      },
      "execution_count": null,
      "outputs": []
    },
    {
      "cell_type": "code",
      "source": [
        "reviews[0]"
      ],
      "metadata": {
        "id": "sPetHDom8WHy"
      },
      "execution_count": null,
      "outputs": []
    },
    {
      "cell_type": "code",
      "source": [
        "sentiment_model(reviews[0])"
      ],
      "metadata": {
        "id": "U-sDAeGY768N"
      },
      "execution_count": null,
      "outputs": []
    },
    {
      "cell_type": "code",
      "source": [
        "sentiment_model(reviews[0])[0]['label']"
      ],
      "metadata": {
        "id": "Y_KNuqse8HvM"
      },
      "execution_count": null,
      "outputs": []
    },
    {
      "cell_type": "code",
      "source": [
        "sentiments = []\n",
        "\n",
        "for review in reviews:\n",
        "  sentiments.append(sentiment_model(review)[0]['label'])\n",
        "\n",
        "sentiments"
      ],
      "metadata": {
        "id": "-gjHUpqn8Ktd"
      },
      "execution_count": null,
      "outputs": []
    },
    {
      "cell_type": "code",
      "source": [
        "sample_review_df['sentiment'] = sentiments\n",
        "sample_review_df"
      ],
      "metadata": {
        "id": "L5TmFb0G8ZJq"
      },
      "execution_count": null,
      "outputs": []
    },
    {
      "cell_type": "markdown",
      "source": [
        "### Load an emotion detector transformer model"
      ],
      "metadata": {
        "id": "2LuLQ7MD_tZo"
      }
    },
    {
      "cell_type": "code",
      "source": [
        "emotion_model = pipeline('sentiment-analysis',\n",
        "                         model='SamLowe/roberta-base-go_emotions',\n",
        "                         device=0)"
      ],
      "metadata": {
        "id": "Pdp5PqF98cr-"
      },
      "execution_count": null,
      "outputs": []
    },
    {
      "cell_type": "markdown",
      "source": [
        "### Perform emotion analysis for given reviews"
      ],
      "metadata": {
        "id": "nrgHnWkO_0G6"
      }
    },
    {
      "cell_type": "code",
      "source": [
        "emotions = []\n",
        "\n",
        "for review in reviews:\n",
        "  emotions.append(emotion_model(review)[0]['label'])\n",
        "\n",
        "emotions"
      ],
      "metadata": {
        "id": "ApMW967C8qIj"
      },
      "execution_count": null,
      "outputs": []
    },
    {
      "cell_type": "code",
      "source": [
        "sample_review_df['emotion'] = emotions\n",
        "sample_review_df"
      ],
      "metadata": {
        "id": "y-PuC9cM85me"
      },
      "execution_count": null,
      "outputs": []
    },
    {
      "cell_type": "markdown",
      "source": [
        "### Plot some basic visuals"
      ],
      "metadata": {
        "id": "8TycNUzv_1-u"
      }
    },
    {
      "cell_type": "code",
      "source": [
        "sample_review_df['sentiment'].value_counts().plot(kind='bar');"
      ],
      "metadata": {
        "id": "rWYYe9wA89PA"
      },
      "execution_count": null,
      "outputs": []
    },
    {
      "cell_type": "code",
      "source": [
        "sample_review_df['emotion'].value_counts().plot(kind='bar');"
      ],
      "metadata": {
        "id": "2s3XIp649DPF"
      },
      "execution_count": null,
      "outputs": []
    },
    {
      "cell_type": "markdown",
      "source": [
        "## Your Turn:\n",
        "\n",
        "Given more customer reviews, repeat the same analytics which we showed you above.\n",
        "\n",
        "1. For each review get the sentiment and emotion using the same models\n",
        "2. Store the emotion and sentiment in separate columns in the dataframe\n",
        "3. Show the dataframe with all the columns\n",
        "4. Create basic visuals"
      ],
      "metadata": {
        "id": "xkJYul_8_5QP"
      }
    },
    {
      "cell_type": "code",
      "source": [
        "reviews = [\n",
        "    \"I had high hopes for the UltraClean vacuum cleaner, but it hardly picks up any dirt. Also, the battery life is abysmal. Not worth the price.\",\n",
        "    \"The SunBurst solar charger was advertised as being highly efficient, but it barely charges my devices. Even under direct sunlight, it takes forever. A complete letdown.\",\n",
        "    \"Bought the AirLite drone, and it's not user-friendly at all. The controls are confusing, and the camera quality is mediocre at best. Wish I had gone for another brand.\",\n",
        "    \"Bought the LumiGlow skincare serum a month ago, and the results are visible! My skin feels rejuvenated and the fine lines have reduced. Definitely worth the investment.\",\n",
        "    \"The TerraFit hiking boots are outstanding. They're not only durable but also provide excellent support during long treks. My feet have never felt so comfortable during hikes.\",\n",
        "    \"I was skeptical about the QuickCook microwave oven initially, but it has surpassed all my expectations. The multi-function features and quick heating technology are truly innovative. A must-have in every kitchen!\",\n",
        "    \"The Prestige juicer is a disappointment. It constantly gets jammed, and cleaning it is a nightmare. I regret this purchase.\",\n",
        "    \"I recently purchased the AquaBliss water filter, and I'm genuinely impressed! Not only was the installation straightforward, but the water tastes remarkably fresh. Highly recommended for anyone wanting pure drinking water.\",\n",
        "    \"The SoundWave headphones are a game-changer. They fit comfortably, and the noise-cancellation feature is top-notch. I can finally enjoy my music without any interruptions.\",\n",
        "    \"The GlamorEyes mascara is terrible. It clumps easily and doesn't provide the volume it promises. Definitely won't be repurchasing.\",\n",
        "    \"The StreamLine smartwatch is a fantastic addition to my tech collection. It tracks my health metrics accurately, and the battery life is commendable. It's stylish and functional.\",\n",
        "    \"I've been using the SilkSoft hair conditioner for the past two weeks, and my hair has never felt better. It's silky, tangle-free, and smells divine. Highly recommend for those with frizzy hair.\",\n",
        "    \"The LuxeShine nail polish chips easily and doesn't last more than a day. The colors are lovely, but the quality leaves much to be desired.\",\n",
        "    \"Tried the PowerPulse wireless earbuds, and they keep disconnecting randomly. The sound quality is also underwhelming. Not what I expected for the price.\",\n",
        "    \"The ZoomDrive USB stick is both compact and efficient. Transferring files has never been faster, and its durable design ensures I don't have to worry about data loss.\",\n",
        "    \"Opted for the FreshBreeze air purifier, and it has made a noticeable difference in my home. Allergies are at bay, and the air feels cleaner and fresher.\",\n",
        "    \"The ClearVue window cleaner left streaks on my windows. I had to redo the cleaning with another product. It's more hassle than it's worth.\",\n",
        "    \"The MegaGrill BBQ set looked sturdy online, but in reality, it's flimsy and poorly constructed. Cooking on it has been a challenge.\",\n",
        "    \"The UrbanWalk sneakers are not only trendy but also incredibly comfortable. I've worn them for both workouts and casual outings, and they've been perfect for both.\",\n",
        "    \"The SwiftWrite pen set is not worth the money. The ink smudges, and the pens run out way too quickly. I'll be looking for alternatives.\"\n",
        "]\n",
        "\n",
        "review_df = pd.DataFrame(reviews, columns=['review'])\n",
        "review_df.head()"
      ],
      "metadata": {
        "id": "jcQ7Hhf79JZR"
      },
      "execution_count": null,
      "outputs": []
    },
    {
      "cell_type": "code",
      "source": [
        "reviews = review_df['review'].values\n",
        "\n",
        "sentiments = []\n",
        "emotions = []"
      ],
      "metadata": {
        "id": "0WRrajZC-RS1"
      },
      "execution_count": null,
      "outputs": []
    },
    {
      "cell_type": "code",
      "source": [],
      "metadata": {
        "id": "e1_OoOfY_ASz"
      },
      "execution_count": null,
      "outputs": []
    },
    {
      "cell_type": "code",
      "source": [],
      "metadata": {
        "id": "a_tAMKok_EAg"
      },
      "execution_count": null,
      "outputs": []
    },
    {
      "cell_type": "code",
      "source": [],
      "metadata": {
        "id": "HOhZfhuW_IPr"
      },
      "execution_count": null,
      "outputs": []
    },
    {
      "cell_type": "markdown",
      "source": [
        "# 2. Medical Report Q&A and Summary\n",
        "\n",
        "Scenario: You are working for a healthcare company and you need to quickly create a report summary for a brain cancer report and also test the feasibility of a chatbot.\n",
        "\n",
        "## Your Turn:\n",
        "\n",
        "Use the models mentioned below and try Q&A and Summarization"
      ],
      "metadata": {
        "id": "7UDpMwXEGXbs"
      }
    },
    {
      "cell_type": "markdown",
      "metadata": {
        "id": "qIvUFEVarl_s"
      },
      "source": [
        "### Question Answering\n",
        "\n",
        "Use the model and the context report provided and ask the following questions and see what answers you get\n",
        "\n",
        "1. What is cancer?\n",
        "2. What is brain cancer?\n",
        "3. What are traditional methods to detect brain cancer?\n",
        "4. What is Magnetic Resonance Imaging?\n",
        "5. What is biopsy?\n",
        "6. What can AI do for brain cancer?\n",
        "7. How can deep learning be used for brain cancer?"
      ]
    },
    {
      "cell_type": "code",
      "metadata": {
        "id": "ND_8LzQKrl_u",
        "pycharm": {
          "is_executing": false,
          "name": "#%% code\n"
        }
      },
      "source": [
        "nlp_qa = pipeline('question-answering',\n",
        "                  model='deepset/roberta-base-squad2',\n",
        "                  device=0)"
      ],
      "execution_count": null,
      "outputs": []
    },
    {
      "cell_type": "code",
      "metadata": {
        "id": "hWplEBq6ZrTt"
      },
      "source": [
        "context = \"\"\"\n",
        "Cancer Detection for the Brain: An Overview of Modern Methods and the Role of Computer Vision\n",
        "\n",
        "Cancer, a group of diseases characterized by the uncontrolled growth and spread of abnormal cells, has long been a significant concern in medical science. Among the various types of cancer, brain cancer is particularly alarming due to its location in the central nervous system. Detecting brain cancer early is crucial, as it significantly improves the chances of successful treatment and patient survival. This essay will delve into the methods available for detecting brain cancer, emphasizing early detection techniques and the growing role of computer vision in this arena.\n",
        "\n",
        "1. Traditional Detection Methods:\n",
        "a. Magnetic Resonance Imaging (MRI): This is the most commonly used technique for diagnosing brain tumors. MRI uses powerful magnets and radio waves to produce detailed images of the brain. These images can help identify abnormal growths, which may then be biopsied for confirmation.\n",
        "\n",
        "b. Computed Tomography (CT) Scan: Although not as detailed as MRI, CT scans are faster and can provide valuable information about the presence and location of tumors. They use X-rays to produce cross-sectional images of the brain.\n",
        "\n",
        "c. Biopsy: A biopsy is the removal of a small amount of tissue for examination under a microscope. This is the most definitive way to diagnose cancer. Surgeons usually perform biopsies using a needle or during surgery.\n",
        "\n",
        "2. Early Detection Techniques:\n",
        "a. Advanced Imaging: Advanced MRI techniques, such as functional MRI (fMRI) and magnetic resonance spectroscopy (MRS), can detect early changes in the brain's functionality or chemistry, even before a tumor becomes apparent.\n",
        "\n",
        "b. Liquid Biopsy: This is a non-invasive method where doctors test the blood for tiny fragments of DNA shed by cancer cells. While still in the research phase for brain cancer, it holds promise for early detection.\n",
        "\n",
        "c. Neurological Exams: Regular neurological exams can catch subtle changes in brain function, such as coordination, memory, or reflexes, which might be indicative of a developing tumor.\n",
        "\n",
        "3. Computer Vision and Brain Cancer Detection:\n",
        "With the advancement of artificial intelligence (AI) and machine learning, computer vision has emerged as a potent tool in the medical field, especially in cancer detection.\n",
        "\n",
        "a. Image Segmentation: Computer vision algorithms can segment MRI or CT scan images to highlight potential tumor regions accurately. This can be particularly useful in identifying small tumors that might be overlooked by the human eye.\n",
        "\n",
        "b. Predictive Analysis: Using vast datasets, computer vision systems can predict the likelihood of a tumor being malignant or benign. This assists doctors in deciding whether a biopsy is necessary.\n",
        "\n",
        "c. Automated Monitoring: By comparing current images with previous scans, computer vision can detect minute changes over time, enabling the identification of tumors at a very early stage.\n",
        "\n",
        "d. Enhanced Visualization: Computer vision can enhance the visualization of scans, making it easier for radiologists to interpret the results. Techniques like deep learning can amplify the differences between healthy and cancerous tissues.\n",
        "\n",
        "In conclusion, while traditional methods of brain cancer detection remain foundational, the integration of modern techniques, especially computer vision, is revolutionizing the early detection and diagnosis of this life-threatening disease. The synergy of human expertise and machine precision promises a brighter future for patients at risk of brain cancer. As research progresses and technology becomes more advanced, we can anticipate even more accurate and early detection methods, potentially saving countless lives.\n",
        "\"\"\""
      ],
      "execution_count": null,
      "outputs": []
    },
    {
      "cell_type": "code",
      "metadata": {
        "id": "sgnBjoVvafqF"
      },
      "source": [
        "nlp_qa(context=context, question='What is cancer?')"
      ],
      "execution_count": null,
      "outputs": []
    },
    {
      "cell_type": "code",
      "metadata": {
        "id": "2IDudp4TalZ0"
      },
      "source": [],
      "execution_count": null,
      "outputs": []
    },
    {
      "cell_type": "code",
      "metadata": {
        "id": "uZQIFG2Sao9t"
      },
      "source": [],
      "execution_count": null,
      "outputs": []
    },
    {
      "cell_type": "code",
      "metadata": {
        "id": "95ehmGq6bDID"
      },
      "source": [],
      "execution_count": null,
      "outputs": []
    },
    {
      "cell_type": "code",
      "metadata": {
        "id": "uy2DUQSSa4qT"
      },
      "source": [],
      "execution_count": null,
      "outputs": []
    },
    {
      "cell_type": "code",
      "source": [],
      "metadata": {
        "id": "eZKDWbfBCuUv"
      },
      "execution_count": null,
      "outputs": []
    },
    {
      "cell_type": "code",
      "source": [],
      "metadata": {
        "id": "9W9cjmApC6ni"
      },
      "execution_count": null,
      "outputs": []
    },
    {
      "cell_type": "markdown",
      "metadata": {
        "id": "Fbs9t1KvrzDy"
      },
      "source": [
        "### Summarization\n",
        "\n",
        "Use the model mentioned below and summarize the brain cancer report from above"
      ]
    },
    {
      "cell_type": "code",
      "metadata": {
        "id": "streAal1byjl"
      },
      "source": [
        "summarizer = pipeline('summarization',\n",
        "                      model='philschmid/bart-large-cnn-samsum',\n",
        "                      device=0)"
      ],
      "execution_count": null,
      "outputs": []
    },
    {
      "cell_type": "code",
      "metadata": {
        "id": "8BaOgzi1u1Yc"
      },
      "source": [
        "result ="
      ],
      "execution_count": null,
      "outputs": []
    },
    {
      "cell_type": "code",
      "metadata": {
        "id": "mVjBuQqAd28Y"
      },
      "source": [
        "import nltk\n",
        "nltk.download('punkt')"
      ],
      "execution_count": null,
      "outputs": []
    },
    {
      "cell_type": "code",
      "metadata": {
        "id": "yw-EXRoldUvW"
      },
      "source": [
        "summary = result[0]['summary_text']\n",
        "print('\\n'.join(nltk.sent_tokenize(summary)))"
      ],
      "execution_count": null,
      "outputs": []
    },
    {
      "cell_type": "markdown",
      "source": [
        "# 3. Table / Database Q & A\n",
        "\n",
        "Scenario: You are working for a sports website who wants you to quickly get some factual answers from a sports database table. Unfortunately no-one knows or wants to learn SQL.\n",
        "\n",
        "Here you as an AI expert will try to use a transformer LLM to do table Q&A!"
      ],
      "metadata": {
        "id": "Lv9eT-FvTIlE"
      }
    },
    {
      "cell_type": "markdown",
      "source": [
        "## Example Demo:"
      ],
      "metadata": {
        "id": "KAPDT5fsTukC"
      }
    },
    {
      "cell_type": "markdown",
      "source": [
        "### Load the Table QA Transformer model"
      ],
      "metadata": {
        "id": "1nwHb7qgTvtQ"
      }
    },
    {
      "cell_type": "code",
      "source": [
        "table_qa = pipeline('table-question-answering',\n",
        "                    model='neulab/omnitab-large-finetuned-wtq',\n",
        "                    device=0)"
      ],
      "metadata": {
        "id": "ZwaDbrPIHLnh"
      },
      "execution_count": null,
      "outputs": []
    },
    {
      "cell_type": "markdown",
      "source": [
        "### Look at the sample data table we have shown"
      ],
      "metadata": {
        "id": "sy-jooftTzhM"
      }
    },
    {
      "cell_type": "code",
      "source": [
        "data = {\n",
        "    \"year\": [1896, 1900, 1904, 2004, 2008, 2012],\n",
        "    \"city\": [\"athens\", \"paris\", \"st. louis\", \"athens\", \"beijing\", \"london\"]\n",
        "}\n",
        "table = pd.DataFrame.from_dict(data)\n",
        "table"
      ],
      "metadata": {
        "id": "uxHIOmnhHWYM"
      },
      "execution_count": null,
      "outputs": []
    },
    {
      "cell_type": "markdown",
      "source": [
        "### Ask questions based on the table"
      ],
      "metadata": {
        "id": "ekYEViZRT285"
      }
    },
    {
      "cell_type": "code",
      "source": [
        "table_qa(table=table,\n",
        "         query=\"In which year did beijing host the Olympic Games?\")"
      ],
      "metadata": {
        "id": "Qbauu34hHe2W"
      },
      "execution_count": null,
      "outputs": []
    },
    {
      "cell_type": "markdown",
      "source": [
        "## Your turn:\n",
        "\n",
        "Given the following sample data table try to ask and get answers for the following questions:\n",
        "\n",
        "\n",
        "- Which country won the most medals in the table for olympics?\n",
        "- Leading country with the most medals in olympics 1988?\n",
        "- What is the max value for Participating Nations in the olympics?\n",
        "- Which year had the maximum Participating Nations in the olympics?\n",
        "- Host city and host country of 2020 olympics?\n",
        "- Host country who hosted the most number of olympic games?\n",
        "- How many olympic games were hosted by USA?"
      ],
      "metadata": {
        "id": "VYQnF1n8T5tG"
      }
    },
    {
      "cell_type": "code",
      "source": [
        "# Data for the last 10 Summer Olympics\n",
        "data = {\n",
        "    \"Year\": [2020, 2016, 2012, 2008, 2004, 2000, 1996, 1992, 1988, 1984],\n",
        "    \"Host City\": [\"Tokyo\", \"Rio de Janeiro\", \"London\", \"Beijing\", \"Athens\", \"Sydney\", \"Atlanta\", \"Barcelona\", \"Seoul\", \"Los Angeles\"],\n",
        "    \"Host Country\": [\"Japan\", \"Brazil\", \"United Kingdom\", \"China\", \"Greece\", \"Australia\", \"USA\", \"Spain\", \"South Korea\", \"USA\"],\n",
        "    \"Participating Nations\": [205, 207, 204, 204, 201, 199, 197, 169, 159, 140],\n",
        "    \"Athletes\": [11338, 11238, 10568, 10942, 10625, 10651, 10318, 9356, 8391, 6829],\n",
        "    \"Sports\": [33, 28, 26, 28, 28, 28, 26, 25, 23, 21],\n",
        "    \"Leading Country\": [\"USA\", \"USA\", \"USA\", \"China\", \"USA\", \"USA\", \"USA\", \"Unified Team\", \"Soviet Union\", \"USA\"],\n",
        "    \"Total Medals\": [113, 121, 104, 100, 103, 97, 101, 112, 132, 174]\n",
        "}\n",
        "\n",
        "# Creating the dataframe\n",
        "table = pd.DataFrame(data)\n",
        "table"
      ],
      "metadata": {
        "id": "AuefEjErH_jQ"
      },
      "execution_count": null,
      "outputs": []
    },
    {
      "cell_type": "code",
      "source": [
        "table_qa(table=table,\n",
        "         query=\"Which country won the most medals in the table for olympics?\")"
      ],
      "metadata": {
        "id": "V7dudsA9IRLe"
      },
      "execution_count": null,
      "outputs": []
    },
    {
      "cell_type": "code",
      "source": [],
      "metadata": {
        "id": "-alP6-gAIfwn"
      },
      "execution_count": null,
      "outputs": []
    },
    {
      "cell_type": "code",
      "source": [],
      "metadata": {
        "id": "Wo3v6AqMIsSz"
      },
      "execution_count": null,
      "outputs": []
    },
    {
      "cell_type": "code",
      "source": [],
      "metadata": {
        "id": "jc0ECkEyLK1j"
      },
      "execution_count": null,
      "outputs": []
    },
    {
      "cell_type": "code",
      "source": [],
      "metadata": {
        "id": "tqj0oGaVLQOz"
      },
      "execution_count": null,
      "outputs": []
    },
    {
      "cell_type": "code",
      "source": [],
      "metadata": {
        "id": "so0QoKF8MRxd"
      },
      "execution_count": null,
      "outputs": []
    },
    {
      "cell_type": "code",
      "source": [],
      "metadata": {
        "id": "TXHo-6xVNZO6"
      },
      "execution_count": null,
      "outputs": []
    },
    {
      "cell_type": "markdown",
      "metadata": {
        "id": "qPUpg0M8hCtB"
      },
      "source": [
        "# 4. News Categorization\n",
        "\n",
        "Scenario: You are working for a news website who wants to stop frustrated people from sitting and manually categorizing news articles in specific category sections in its website, so they can help with creating more content and be happy!\n",
        "\n",
        "Here you as an AI expert will try to use a zero-shot transformer LLM to do news categorization for three major news categories - sports, business and technology."
      ]
    },
    {
      "cell_type": "markdown",
      "source": [
        "## Example Demo:"
      ],
      "metadata": {
        "id": "lNacBYYuVSem"
      }
    },
    {
      "cell_type": "markdown",
      "source": [
        "### Load the zero shot model"
      ],
      "metadata": {
        "id": "PwT9Ue2ZVUfd"
      }
    },
    {
      "cell_type": "code",
      "metadata": {
        "id": "5pKfxTxohXuZ"
      },
      "source": [
        "categorizer = pipeline('zero-shot-classification',\n",
        "                       device=0)"
      ],
      "execution_count": null,
      "outputs": []
    },
    {
      "cell_type": "markdown",
      "source": [
        "### View the sample news articles"
      ],
      "metadata": {
        "id": "G5uPYmLZVXK3"
      }
    },
    {
      "cell_type": "code",
      "source": [
        "# Sample data with fictitious names for 5 articles\n",
        "data = {\n",
        "    \"news_article\": [\n",
        "        \"Riverside Roarers clinch victory in the regional football finals!\",\n",
        "        \"Tech giant NeoTech announces its latest smartphone, the NeoTech Ultra.\",\n",
        "        \"Stock markets see a steady rise, with BlueChip Enterprises leading the rally.\",\n",
        "        \"InnovateSoft unveils a groundbreaking app that aids remote learning.\",\n",
        "        \"Commodities market shaken as precious metal prices fluctuate unexpectedly.\"\n",
        "    ],\n",
        "    \"actual_category\": [\n",
        "        \"sports\",\n",
        "        \"technology\",\n",
        "        \"business\",\n",
        "        \"technology\",\n",
        "        \"business\"\n",
        "    ]\n",
        "}\n",
        "\n",
        "# Creating the dataframe\n",
        "df = pd.DataFrame(data)\n",
        "df"
      ],
      "metadata": {
        "id": "-rzw9_QIQwwi"
      },
      "execution_count": null,
      "outputs": []
    },
    {
      "cell_type": "markdown",
      "source": [
        "### Perform text categorization"
      ],
      "metadata": {
        "id": "k2R2Yo8jVan7"
      }
    },
    {
      "cell_type": "code",
      "source": [
        "news_categories = ['sports', 'business', 'technology']"
      ],
      "metadata": {
        "id": "IhNjd338m7wh"
      },
      "execution_count": null,
      "outputs": []
    },
    {
      "cell_type": "code",
      "source": [
        "articles = df['news_article'].values\n",
        "articles"
      ],
      "metadata": {
        "id": "WdAdSBiZRzuw"
      },
      "execution_count": null,
      "outputs": []
    },
    {
      "cell_type": "code",
      "source": [
        "articles[0]"
      ],
      "metadata": {
        "id": "ADvdpGrvR5G1"
      },
      "execution_count": null,
      "outputs": []
    },
    {
      "cell_type": "code",
      "source": [
        "categorizer(articles[0], news_categories)"
      ],
      "metadata": {
        "id": "Da9lEVzmRqF1"
      },
      "execution_count": null,
      "outputs": []
    },
    {
      "cell_type": "code",
      "source": [
        "categorizer(articles, news_categories)['labels'][0]"
      ],
      "metadata": {
        "id": "YKSpJzU4R9HH"
      },
      "execution_count": null,
      "outputs": []
    },
    {
      "cell_type": "code",
      "metadata": {
        "id": "fd_lMJ_-fchm"
      },
      "source": [
        "predicted_categories = []\n",
        "\n",
        "for article in articles:\n",
        "    predicted_categories.append(categorizer(article, news_categories)['labels'][0])\n",
        "\n",
        "predicted_categories"
      ],
      "execution_count": null,
      "outputs": []
    },
    {
      "cell_type": "markdown",
      "source": [
        "### Compare human labeled and AI model labeled categories"
      ],
      "metadata": {
        "id": "vj3KADuWVe-P"
      }
    },
    {
      "cell_type": "code",
      "metadata": {
        "id": "A9pOS1QagYx_"
      },
      "source": [
        "df['predicted_category'] = predicted_categories\n",
        "df"
      ],
      "execution_count": null,
      "outputs": []
    },
    {
      "cell_type": "markdown",
      "source": [
        "## Your turn:\n",
        "\n",
        "For the following news articles, perform the same exercise as shown above"
      ],
      "metadata": {
        "id": "NUaW5iEAVmSu"
      }
    },
    {
      "cell_type": "code",
      "source": [
        "# Sample data with fictitious names\n",
        "data = {\n",
        "    \"news_article\": [\n",
        "        \"Local team, the Riverside Roarers, wins the national championship!\",\n",
        "        \"Olympics postponed due to unforeseen circumstances, world athletes in shock.\",\n",
        "        \"New athletic shoes by SportsMaster promise better performance for athletes.\",\n",
        "        \"Stock markets hit an all-time high; investors rejoice as GlobalTrade Inc. leads the surge.\",\n",
        "        \"Tech giant NeoTech set to acquire startup InnovateSoft, sparking industry buzz.\",\n",
        "        \"Latest quarterly reports show unexpected profits for FinCorp Industries.\",\n",
        "        \"Revolutionary new AI tech from AIRevolution promises to change the way we work.\",\n",
        "        \"Major tech conference TechFest 2023 postponed due to health concerns.\",\n",
        "        \"Breakthrough in quantum computing achieved by Pinnacle University researchers.\",\n",
        "        \"Financial analysts at MoneyMatters predict a bullish year for commodities, especially gold.\"\n",
        "    ],\n",
        "    \"actual_category\": [\n",
        "        \"sports\",\n",
        "        \"sports\",\n",
        "        \"sports\",\n",
        "        \"business\",\n",
        "        \"business\",\n",
        "        \"business\",\n",
        "        \"technology\",\n",
        "        \"technology\",\n",
        "        \"technology\",\n",
        "        \"business\"\n",
        "    ]\n",
        "}\n",
        "\n",
        "# Creating the dataframe\n",
        "df = pd.DataFrame(data)\n",
        "df"
      ],
      "metadata": {
        "id": "HxWDt0yqnpPP"
      },
      "execution_count": null,
      "outputs": []
    },
    {
      "cell_type": "code",
      "source": [
        "articles = df['news_article'].values\n",
        "predicted_categories = []\n",
        "\n"
      ],
      "metadata": {
        "id": "Ty6MADLnSlSr"
      },
      "execution_count": null,
      "outputs": []
    },
    {
      "cell_type": "code",
      "source": [
        "del categorizer\n",
        "del table_qa\n",
        "del summarizer\n",
        "del nlp_qa"
      ],
      "metadata": {
        "id": "kbQLDo37LhfF"
      },
      "execution_count": null,
      "outputs": []
    },
    {
      "cell_type": "code",
      "source": [
        "import gc\n",
        "gc.collect()"
      ],
      "metadata": {
        "id": "1TGiPWW9L8k2"
      },
      "execution_count": null,
      "outputs": []
    },
    {
      "cell_type": "code",
      "source": [
        "import torch\n",
        "torch.cuda.empty_cache()"
      ],
      "metadata": {
        "id": "sN-UPCVoU0qh"
      },
      "execution_count": null,
      "outputs": []
    },
    {
      "cell_type": "markdown",
      "source": [
        "## Bonus: Zero-Shot Object Detection"
      ],
      "metadata": {
        "id": "jdoc-K7WSFUP"
      }
    },
    {
      "cell_type": "code",
      "source": [
        "detector = pipeline(task=\"zero-shot-object-detection\",\n",
        "                    model=\"google/owlv2-base-patch16-ensemble\",\n",
        "                    device=0)"
      ],
      "metadata": {
        "id": "y_IOxnMIL_Pi"
      },
      "execution_count": null,
      "outputs": []
    },
    {
      "cell_type": "code",
      "source": [
        "!curl \"https://i.imgur.com/WLF73qt.png\" -o image.png"
      ],
      "metadata": {
        "id": "7OffTBoBPRDg"
      },
      "execution_count": null,
      "outputs": []
    },
    {
      "cell_type": "code",
      "source": [
        "import numpy as np\n",
        "from PIL import Image"
      ],
      "metadata": {
        "id": "N2O9lrn3MMPg"
      },
      "execution_count": null,
      "outputs": []
    },
    {
      "cell_type": "code",
      "source": [
        "image = Image.open('image.png')\n",
        "image"
      ],
      "metadata": {
        "id": "Uv9AVt7fMO4S"
      },
      "execution_count": null,
      "outputs": []
    },
    {
      "cell_type": "code",
      "source": [
        "predictions = detector(\n",
        "    image,\n",
        "    candidate_labels=[\"cat\", \"plant\", \"computer\", \"computer mouse\"],\n",
        ")\n",
        "predictions"
      ],
      "metadata": {
        "id": "jWjLvQxAMRaU"
      },
      "execution_count": null,
      "outputs": []
    },
    {
      "cell_type": "code",
      "source": [
        "df = pd.DataFrame(predictions)\n",
        "df.head()"
      ],
      "metadata": {
        "id": "fUhu-WEpNUsd"
      },
      "execution_count": null,
      "outputs": []
    },
    {
      "cell_type": "code",
      "source": [
        "predictions = df.loc[df.groupby('label')['score'].idxmax()].to_dict('records')\n",
        "predictions"
      ],
      "metadata": {
        "id": "UNo6I4FjOQhO"
      },
      "execution_count": null,
      "outputs": []
    },
    {
      "cell_type": "code",
      "source": [
        "from PIL import ImageDraw\n",
        "\n",
        "draw = ImageDraw.Draw(image)\n",
        "\n",
        "for prediction in predictions:\n",
        "    box = prediction[\"box\"]\n",
        "    label = prediction[\"label\"]\n",
        "    score = prediction[\"score\"]\n",
        "\n",
        "    xmin, ymin, xmax, ymax = box.values()\n",
        "    draw.rectangle((xmin, ymin, xmax, ymax), outline=\"red\", width=1)\n",
        "    draw.text((xmin, ymin), f\"{label}: {round(score,2)}\", fill=\"red\")\n",
        "\n",
        "image"
      ],
      "metadata": {
        "id": "5qaWkeKtMltS"
      },
      "execution_count": null,
      "outputs": []
    },
    {
      "cell_type": "code",
      "source": [],
      "metadata": {
        "id": "yrs8JpZTMUbJ"
      },
      "execution_count": null,
      "outputs": []
    }
  ]
}